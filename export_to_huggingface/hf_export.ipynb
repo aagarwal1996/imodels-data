{
 "cells": [
  {
   "cell_type": "code",
   "execution_count": 3,
   "outputs": [
    {
     "name": "stdout",
     "output_type": "stream",
     "text": [
      "The autoreload extension is already loaded. To reload it, use:\n",
      "  %reload_ext autoreload\n"
     ]
    }
   ],
   "source": [
    "%load_ext autoreload\n",
    "%autoreload 2"
   ],
   "metadata": {
    "collapsed": false,
    "pycharm": {
     "name": "#%%\n"
    }
   }
  },
  {
   "cell_type": "markdown",
   "source": [
    "# save dataset to huggingface"
   ],
   "metadata": {
    "collapsed": false,
    "pycharm": {
     "name": "#%% md\n"
    }
   }
  },
  {
   "cell_type": "code",
   "execution_count": 4,
   "outputs": [],
   "source": [
    "from sklearn.model_selection import train_test_split\n",
    "import imodels\n",
    "import pandas as pd\n",
    "\n",
    "\n",
    "X, y, feature_names = imodels.get_clean_dataset('compas_two_year_clean')\n",
    "\n",
    "df = pd.DataFrame(X, columns=feature_names)\n",
    "df['is_recid'] = y\n",
    "train, test = train_test_split(df, test_size=0.2, random_state=42)\n",
    "train.to_csv('train.csv', index=False)\n",
    "test.to_csv('test.csv', index=False)"
   ],
   "metadata": {
    "collapsed": false,
    "pycharm": {
     "name": "#%%\n"
    }
   }
  },
  {
   "cell_type": "markdown",
   "source": [
    "# fit sample model"
   ],
   "metadata": {
    "collapsed": false,
    "pycharm": {
     "name": "#%% md\n"
    }
   }
  },
  {
   "cell_type": "code",
   "execution_count": 10,
   "outputs": [
    {
     "name": "stderr",
     "output_type": "stream",
     "text": [
      "Using custom data configuration imodels--compas-recidivism-73f759ec546906e5\n",
      "Reusing dataset csv (/Users/chandan/.cache/huggingface/datasets/imodels___csv/imodels--compas-recidivism-73f759ec546906e5/0.0.0/51cce309a08df9c4d82ffd9363bbe090bf173197fc01a71b034e8594995a1a58)\n"
     ]
    },
    {
     "data": {
      "text/plain": "  0%|          | 0/2 [00:00<?, ?it/s]",
      "application/vnd.jupyter.widget-view+json": {
       "version_major": 2,
       "version_minor": 0,
       "model_id": "04624ca0999c4ef19fb64ea886e7f82d"
      }
     },
     "metadata": {},
     "output_type": "display_data"
    }
   ],
   "source": [
    "from datasets import load_dataset\n",
    "import imodels\n",
    "import numpy as np\n",
    "from sklearn.model_selection import GridSearchCV\n",
    "import joblib\n",
    "\n",
    "# load data\n",
    "dataset = load_dataset(\"imodels/compas-recidivism\")\n",
    "df = pd.DataFrame(dataset['train'])\n",
    "X_train = df.drop(columns=['is_recid'])\n",
    "y_train = df['is_recid'].values\n",
    "\n",
    "df_test = pd.DataFrame(dataset['test'])\n",
    "X_test = df.drop(columns=['is_recid'])\n",
    "y_test = df['is_recid'].values"
   ],
   "metadata": {
    "collapsed": false,
    "pycharm": {
     "name": "#%%\n"
    }
   }
  },
  {
   "cell_type": "markdown",
   "source": [
    "**fit single model**"
   ],
   "metadata": {
    "collapsed": false,
    "pycharm": {
     "name": "#%% md\n"
    }
   }
  },
  {
   "cell_type": "code",
   "execution_count": 11,
   "outputs": [
    {
     "name": "stdout",
     "output_type": "stream",
     "text": [
      "> ------------------------------\n",
      "> FIGS-Fast Interpretable Greedy-Tree Sums:\n",
      "> \tPredictions are made by summing the \"Val\" reached by traversing each tree\n",
      "> ------------------------------\n",
      "priors_count <= 2.500 (Tree #0 root)\n",
      "\tpriors_count <= 0.500 (split)\n",
      "\t\tVal: 0.288 (leaf)\n",
      "\t\tVal: 0.440 (leaf)\n",
      "\tpriors_count <= 6.500 (split)\n",
      "\t\tVal: 0.619 (leaf)\n",
      "\t\tVal: 0.804 (leaf)\n",
      "\n",
      "\t+\n",
      "age <= 27.500 (Tree #1 root)\n",
      "\tage <= 22.500 (split)\n",
      "\t\tVal: 0.256 (leaf)\n",
      "\t\tVal: 0.076 (leaf)\n",
      "\tVal: -0.069 (leaf)\n",
      "\n"
     ]
    }
   ],
   "source": [
    "m = imodels.FIGSClassifier(max_rules=5)\n",
    "m.fit(X_train, y_train)\n",
    "print(m)"
   ],
   "metadata": {
    "collapsed": false,
    "pycharm": {
     "name": "#%%\n"
    }
   }
  },
  {
   "cell_type": "code",
   "execution_count": 12,
   "outputs": [
    {
     "name": "stdout",
     "output_type": "stream",
     "text": [
      "accuracy 0.6813854567551144\n"
     ]
    }
   ],
   "source": [
    "print('accuracy', np.mean(m.predict(X_test) == y_test))"
   ],
   "metadata": {
    "collapsed": false,
    "pycharm": {
     "name": "#%%\n"
    }
   }
  },
  {
   "cell_type": "markdown",
   "source": [
    "**fit gridsearch model**"
   ],
   "metadata": {
    "collapsed": false,
    "pycharm": {
     "name": "#%% md\n"
    }
   }
  },
  {
   "cell_type": "code",
   "execution_count": 39,
   "outputs": [
    {
     "name": "stdout",
     "output_type": "stream",
     "text": [
      "score = 0.68\n",
      "best params {'max_rules': 4}\n"
     ]
    }
   ],
   "source": [
    "np.random.seed(13)\n",
    "params = {'max_rules': [3, 4, 5, 7, 10]}\n",
    "grid = GridSearchCV(m, param_grid=params, cv=3)\n",
    "grid.fit(X_train, y_train)\n",
    "\n",
    "print(f\"score = {grid.score(X_test, y_test):3.2f}\")\n",
    "print('best params', grid.best_params_)"
   ],
   "metadata": {
    "collapsed": false,
    "pycharm": {
     "name": "#%%\n"
    }
   }
  },
  {
   "cell_type": "code",
   "execution_count": 40,
   "outputs": [
    {
     "data": {
      "text/plain": "['sklearn_model.joblib']"
     },
     "execution_count": 40,
     "metadata": {},
     "output_type": "execute_result"
    }
   ],
   "source": [
    "joblib.dump(grid.best_estimator_, 'sklearn_model.joblib')"
   ],
   "metadata": {
    "collapsed": false,
    "pycharm": {
     "name": "#%%\n"
    }
   }
  },
  {
   "cell_type": "code",
   "execution_count": 41,
   "outputs": [
    {
     "name": "stdout",
     "output_type": "stream",
     "text": [
      "accuracy 0.6759165485112416\n"
     ]
    }
   ],
   "source": [
    "clf = joblib.load('sklearn_model.joblib')\n",
    "print('accuracy', np.mean(clf.predict(X_test) == y_test))"
   ],
   "metadata": {
    "collapsed": false,
    "pycharm": {
     "name": "#%%\n"
    }
   }
  },
  {
   "cell_type": "markdown",
   "source": [
    "**prepare example**"
   ],
   "metadata": {
    "collapsed": false,
    "pycharm": {
     "name": "#%% md\n"
    }
   }
  },
  {
   "cell_type": "code",
   "execution_count": 35,
   "outputs": [],
   "source": [
    "x = X_test.iloc[0]\n",
    "ind = x.index\n",
    "vals = x.values\n",
    "s = 'widget:\\n'\n",
    "s+= '  structuredData:\\n'\n",
    "for i in range(x.shape[0]):\n",
    "    s+= '    ' + ind[i]+':\\n'\n",
    "    for j in range(5):\n",
    "        s+= '      - ' + str(X_test.iloc[j][i]) + '\\n'\n",
    "with open('widget.txt', 'w') as f:\n",
    "    f.write(s)"
   ],
   "metadata": {
    "collapsed": false,
    "pycharm": {
     "name": "#%%\n"
    }
   }
  }
 ],
 "metadata": {
  "kernelspec": {
   "display_name": "Python 3",
   "language": "python",
   "name": "python3"
  },
  "language_info": {
   "codemirror_mode": {
    "name": "ipython",
    "version": 2
   },
   "file_extension": ".py",
   "mimetype": "text/x-python",
   "name": "python",
   "nbconvert_exporter": "python",
   "pygments_lexer": "ipython2",
   "version": "2.7.6"
  }
 },
 "nbformat": 4,
 "nbformat_minor": 0
}