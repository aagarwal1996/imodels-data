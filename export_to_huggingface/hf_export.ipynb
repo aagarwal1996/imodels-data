{
 "cells": [
  {
   "cell_type": "code",
   "execution_count": 1,
   "outputs": [],
   "source": [
    "%load_ext autoreload\n",
    "%autoreload 2"
   ],
   "metadata": {
    "collapsed": false,
    "pycharm": {
     "name": "#%%\n"
    }
   }
  },
  {
   "cell_type": "markdown",
   "source": [
    "# save dataset to huggingface"
   ],
   "metadata": {
    "collapsed": false,
    "pycharm": {
     "name": "#%% md\n"
    }
   }
  },
  {
   "cell_type": "code",
   "execution_count": 9,
   "outputs": [],
   "source": [
    "from sklearn.model_selection import train_test_split\n",
    "import imodels\n",
    "import pandas as pd\n",
    "\n",
    "\n",
    "outcome = 'default.payment.next.month'\n",
    "X, y, feature_names = imodels.get_clean_dataset('credit_card_clean')\n",
    "df = pd.DataFrame(X, columns=feature_names)\n",
    "df[outcome] = y\n",
    "\n",
    "\n",
    "train, test = train_test_split(df, test_size=0.2, random_state=42)\n",
    "train.to_csv('train.csv', index=False)\n",
    "test.to_csv('test.csv', index=False)"
   ],
   "metadata": {
    "collapsed": false,
    "pycharm": {
     "name": "#%%\n"
    }
   }
  },
  {
   "cell_type": "markdown",
   "source": [
    "# fit sample model"
   ],
   "metadata": {
    "collapsed": false,
    "pycharm": {
     "name": "#%% md\n"
    }
   }
  },
  {
   "cell_type": "code",
   "execution_count": 11,
   "outputs": [
    {
     "name": "stderr",
     "output_type": "stream",
     "text": [
      "Using custom data configuration imodels--credit-card-af8eb95f9964592b\n"
     ]
    },
    {
     "name": "stdout",
     "output_type": "stream",
     "text": [
      "Downloading and preparing dataset csv/imodels--credit-card to /Users/chandan/.cache/huggingface/datasets/imodels___csv/imodels--credit-card-af8eb95f9964592b/0.0.0/51cce309a08df9c4d82ffd9363bbe090bf173197fc01a71b034e8594995a1a58...\n"
     ]
    },
    {
     "data": {
      "text/plain": "Downloading data files:   0%|          | 0/2 [00:00<?, ?it/s]",
      "application/vnd.jupyter.widget-view+json": {
       "version_major": 2,
       "version_minor": 0,
       "model_id": "8f883475e630435081a33a3997e5851f"
      }
     },
     "metadata": {},
     "output_type": "display_data"
    },
    {
     "data": {
      "text/plain": "Downloading data:   0%|          | 0.00/4.22M [00:00<?, ?B/s]",
      "application/vnd.jupyter.widget-view+json": {
       "version_major": 2,
       "version_minor": 0,
       "model_id": "ad3a539db5f24ec2b4f82bcb94c1657e"
      }
     },
     "metadata": {},
     "output_type": "display_data"
    },
    {
     "data": {
      "text/plain": "Downloading data:   0%|          | 0.00/1.06M [00:00<?, ?B/s]",
      "application/vnd.jupyter.widget-view+json": {
       "version_major": 2,
       "version_minor": 0,
       "model_id": "f11300a605db4342971bc014ab4ebda4"
      }
     },
     "metadata": {},
     "output_type": "display_data"
    },
    {
     "data": {
      "text/plain": "Extracting data files:   0%|          | 0/2 [00:00<?, ?it/s]",
      "application/vnd.jupyter.widget-view+json": {
       "version_major": 2,
       "version_minor": 0,
       "model_id": "1c247866809c4f058e6445a32b842d9b"
      }
     },
     "metadata": {},
     "output_type": "display_data"
    },
    {
     "data": {
      "text/plain": "0 tables [00:00, ? tables/s]",
      "application/vnd.jupyter.widget-view+json": {
       "version_major": 2,
       "version_minor": 0,
       "model_id": "f170435a00544d52b96301697efeea79"
      }
     },
     "metadata": {},
     "output_type": "display_data"
    },
    {
     "data": {
      "text/plain": "0 tables [00:00, ? tables/s]",
      "application/vnd.jupyter.widget-view+json": {
       "version_major": 2,
       "version_minor": 0,
       "model_id": "28ccb4b6ca9042d4ad8a225204197159"
      }
     },
     "metadata": {},
     "output_type": "display_data"
    },
    {
     "name": "stdout",
     "output_type": "stream",
     "text": [
      "Dataset csv downloaded and prepared to /Users/chandan/.cache/huggingface/datasets/imodels___csv/imodels--credit-card-af8eb95f9964592b/0.0.0/51cce309a08df9c4d82ffd9363bbe090bf173197fc01a71b034e8594995a1a58. Subsequent calls will reuse this data.\n"
     ]
    },
    {
     "data": {
      "text/plain": "  0%|          | 0/2 [00:00<?, ?it/s]",
      "application/vnd.jupyter.widget-view+json": {
       "version_major": 2,
       "version_minor": 0,
       "model_id": "c63a10c2dfec4dee96a1e3bac2bc1c75"
      }
     },
     "metadata": {},
     "output_type": "display_data"
    }
   ],
   "source": [
    "from datasets import load_dataset\n",
    "import imodels\n",
    "import numpy as np\n",
    "from sklearn.model_selection import GridSearchCV\n",
    "import joblib\n",
    "\n",
    "# load data\n",
    "outcome = 'default.payment.next.month'\n",
    "dataset = load_dataset(\"imodels/credit-card\")\n",
    "df = pd.DataFrame(dataset['train'])\n",
    "X_train = df.drop(columns=[outcome])\n",
    "y_train = df[outcome].values\n",
    "\n",
    "df_test = pd.DataFrame(dataset['test'])\n",
    "X_test = df.drop(columns=[outcome])\n",
    "y_test = df[outcome].values"
   ],
   "metadata": {
    "collapsed": false,
    "pycharm": {
     "name": "#%%\n"
    }
   }
  },
  {
   "cell_type": "markdown",
   "source": [
    "**fit single model**"
   ],
   "metadata": {
    "collapsed": false,
    "pycharm": {
     "name": "#%% md\n"
    }
   }
  },
  {
   "cell_type": "code",
   "execution_count": 12,
   "outputs": [
    {
     "name": "stdout",
     "output_type": "stream",
     "text": [
      "> ------------------------------\n",
      "> FIGS-Fast Interpretable Greedy-Tree Sums:\n",
      "> \tPredictions are made by summing the \"Val\" reached by traversing each tree\n",
      "> ------------------------------\n",
      "pay_0 <= 1.500 (Tree #0 root)\n",
      "\tpay_2 <= 1.500 (split)\n",
      "\t\tpay_amt3 <= 678.500 (split)\n",
      "\t\t\tbill_amt1 <= 530.000 (split)\n",
      "\t\t\t\tVal: 0.285 (leaf)\n",
      "\t\t\t\tVal: 0.183 (leaf)\n",
      "\t\t\tVal: 0.115 (leaf)\n",
      "\t\tVal: 0.420 (leaf)\n",
      "\tVal: 0.697 (leaf)\n",
      "\n",
      "\t+\n",
      "pay_5 <= 1.000 (Tree #1 root)\n",
      "\tVal: -0.011 (leaf)\n",
      "\tVal: 0.102 (leaf)\n",
      "\n"
     ]
    }
   ],
   "source": [
    "m = imodels.FIGSClassifier(max_rules=5)\n",
    "m.fit(X_train, y_train)\n",
    "print(m)"
   ],
   "metadata": {
    "collapsed": false,
    "pycharm": {
     "name": "#%%\n"
    }
   }
  },
  {
   "cell_type": "code",
   "execution_count": 13,
   "outputs": [
    {
     "name": "stdout",
     "output_type": "stream",
     "text": [
      "accuracy 0.8205\n"
     ]
    }
   ],
   "source": [
    "print('accuracy', np.mean(m.predict(X_test) == y_test))"
   ],
   "metadata": {
    "collapsed": false,
    "pycharm": {
     "name": "#%%\n"
    }
   }
  },
  {
   "cell_type": "markdown",
   "source": [
    "**fit gridsearch model**"
   ],
   "metadata": {
    "collapsed": false,
    "pycharm": {
     "name": "#%% md\n"
    }
   }
  },
  {
   "cell_type": "code",
   "execution_count": 39,
   "outputs": [
    {
     "name": "stdout",
     "output_type": "stream",
     "text": [
      "score = 0.68\n",
      "best params {'max_rules': 4}\n"
     ]
    }
   ],
   "source": [
    "np.random.seed(13)\n",
    "params = {'max_rules': [3, 4, 5, 7, 10]}\n",
    "grid = GridSearchCV(m, param_grid=params, cv=3)\n",
    "grid.fit(X_train, y_train)\n",
    "\n",
    "print(f\"score = {grid.score(X_test, y_test):3.2f}\")\n",
    "print('best params', grid.best_params_)"
   ],
   "metadata": {
    "collapsed": false,
    "pycharm": {
     "name": "#%%\n"
    }
   }
  },
  {
   "cell_type": "code",
   "execution_count": 40,
   "outputs": [
    {
     "data": {
      "text/plain": "['sklearn_model.joblib']"
     },
     "execution_count": 40,
     "metadata": {},
     "output_type": "execute_result"
    }
   ],
   "source": [
    "joblib.dump(grid.best_estimator_, 'sklearn_model.joblib')"
   ],
   "metadata": {
    "collapsed": false,
    "pycharm": {
     "name": "#%%\n"
    }
   }
  },
  {
   "cell_type": "code",
   "execution_count": 41,
   "outputs": [
    {
     "name": "stdout",
     "output_type": "stream",
     "text": [
      "accuracy 0.6759165485112416\n"
     ]
    }
   ],
   "source": [
    "clf = joblib.load('sklearn_model.joblib')\n",
    "print('accuracy', np.mean(clf.predict(X_test) == y_test))"
   ],
   "metadata": {
    "collapsed": false,
    "pycharm": {
     "name": "#%%\n"
    }
   }
  },
  {
   "cell_type": "markdown",
   "source": [
    "**prepare example**"
   ],
   "metadata": {
    "collapsed": false,
    "pycharm": {
     "name": "#%% md\n"
    }
   }
  },
  {
   "cell_type": "code",
   "execution_count": 35,
   "outputs": [],
   "source": [
    "x = X_test.iloc[0]\n",
    "ind = x.index\n",
    "vals = x.values\n",
    "s = 'widget:\\n'\n",
    "s+= '  structuredData:\\n'\n",
    "for i in range(x.shape[0]):\n",
    "    s+= '    ' + ind[i]+':\\n'\n",
    "    for j in range(5):\n",
    "        s+= '      - ' + str(X_test.iloc[j][i]) + '\\n'\n",
    "with open('widget.txt', 'w') as f:\n",
    "    f.write(s)"
   ],
   "metadata": {
    "collapsed": false,
    "pycharm": {
     "name": "#%%\n"
    }
   }
  }
 ],
 "metadata": {
  "kernelspec": {
   "display_name": "Python 3",
   "language": "python",
   "name": "python3"
  },
  "language_info": {
   "codemirror_mode": {
    "name": "ipython",
    "version": 2
   },
   "file_extension": ".py",
   "mimetype": "text/x-python",
   "name": "python",
   "nbconvert_exporter": "python",
   "pygments_lexer": "ipython2",
   "version": "2.7.6"
  }
 },
 "nbformat": 4,
 "nbformat_minor": 0
}