{
 "cells": [
  {
   "cell_type": "markdown",
   "id": "cfe9c09b",
   "metadata": {},
   "source": [
    "This notebook uses gdown to download files.\n",
    "You can download it with `pip install gdown`.\n",
    "Alternatively, you can download zip files manually and then run the other commands (or download everything from [this folder](https://drive.google.com/drive/folders/1e9cEAuQsLABU5SOkQF982Pw09wPIJbn7?usp=sharing))."
   ]
  },
  {
   "cell_type": "code",
   "execution_count": 9,
   "id": "3271d9fc",
   "metadata": {},
   "outputs": [
    {
     "name": "stdout",
     "output_type": "stream",
     "text": [
      "The autoreload extension is already loaded. To reload it, use:\n",
      "  %reload_ext autoreload\n"
     ]
    }
   ],
   "source": [
    "%load_ext autoreload\n",
    "%autoreload 2\n",
    "\n",
    "import numpy as np\n",
    "import pandas as pd\n",
    "import os\n",
    "\n",
    "from imodels.util.dta_util import get_openml_dataset"
   ]
  },
  {
   "cell_type": "markdown",
   "id": "continental-desktop",
   "metadata": {},
   "source": [
    "# breast cancer\n",
    "https://www.openml.org/d/13"
   ]
  },
  {
   "cell_type": "code",
   "execution_count": 47,
   "id": "chubby-brook",
   "metadata": {},
   "outputs": [
    {
     "data": {
      "text/plain": [
       "9"
      ]
     },
     "execution_count": 47,
     "metadata": {},
     "output_type": "execute_result"
    }
   ],
   "source": [
    "df = get_openml_dataset(13)\n",
    "df = df.dropna()\n",
    "\n",
    "categorical_features = ['menopause', 'breast-quad', 'deg-malig']\n",
    "df_enc = pd.get_dummies(df, columns=categorical_features)\n",
    "\n",
    "X, y = df_enc.drop('recurrence-events', axis=1), df_enc['recurrence-events']\n",
    "df_clean = pd.concat([X, y], axis=1)\n",
    "df_clean.to_csv('data/breast_cancer.csv', index=False)\n",
    "\n",
    "orig_feature_count = len(df.columns) - 1\n",
    "orig_feature_count"
   ]
  },
  {
   "cell_type": "markdown",
   "id": "ignored-nerve",
   "metadata": {},
   "source": [
    "# german credit\n",
    "https://www.openml.org/d/31"
   ]
  },
  {
   "cell_type": "code",
   "execution_count": 48,
   "id": "developing-batch",
   "metadata": {},
   "outputs": [
    {
     "data": {
      "text/plain": [
       "20"
      ]
     },
     "execution_count": 48,
     "metadata": {},
     "output_type": "execute_result"
    }
   ],
   "source": [
    "df = get_openml_dataset(31)\n",
    "\n",
    "categorical_features = ['checking_status', 'credit_history', 'purpose', 'savings_status', 'employment', \n",
    "                        'personal_status', 'other_parties', 'property_magnitude', 'other_payment_plans',\n",
    "                        'housing', 'job', 'num_dependents']\n",
    "df_enc = pd.get_dummies(df, columns=categorical_features)\n",
    "\n",
    "X, y = df_enc.drop('good', axis=1), df_enc['good']\n",
    "df_clean = pd.concat([X, y], axis=1)\n",
    "df_clean.to_csv('data/credit_g.csv', index=False)\n",
    "\n",
    "orig_feature_count = len(df.columns) - 1\n",
    "orig_feature_count"
   ]
  },
  {
   "cell_type": "markdown",
   "id": "possible-badge",
   "metadata": {},
   "source": [
    "# haberman\n",
    "https://www.openml.org/d/43"
   ]
  },
  {
   "cell_type": "code",
   "execution_count": 49,
   "id": "extensive-belize",
   "metadata": {},
   "outputs": [
    {
     "data": {
      "text/plain": [
       "3"
      ]
     },
     "execution_count": 49,
     "metadata": {},
     "output_type": "execute_result"
    }
   ],
   "source": [
    "df = get_openml_dataset(43)\n",
    "df.to_csv('data/haberman.csv', index=False)\n",
    "orig_feature_count = len(df.columns) - 1\n",
    "orig_feature_count"
   ]
  },
  {
   "cell_type": "markdown",
   "id": "molecular-special",
   "metadata": {},
   "source": [
    "# heart\n",
    "https://www.openml.org/d/1574"
   ]
  },
  {
   "cell_type": "code",
   "execution_count": 50,
   "id": "trying-winner",
   "metadata": {},
   "outputs": [
    {
     "data": {
      "text/plain": [
       "13"
      ]
     },
     "execution_count": 50,
     "metadata": {},
     "output_type": "execute_result"
    }
   ],
   "source": [
    "df = get_openml_dataset(1574)\n",
    "df = df.rename(columns={1.0:'target'})\n",
    "\n",
    "categorical_features = ['att_13']\n",
    "\n",
    "df_enc = pd.get_dummies(df, columns=categorical_features)\n",
    "\n",
    "for col in [f'att_{i}' for i in [2, 6, 7, 9, 11]]:\n",
    "    df_enc[col] = (df_enc[col] == 1.0).astype(int)\n",
    "\n",
    "X, y = df_enc.drop('target', axis=1), df_enc['target']\n",
    "df_clean = pd.concat([X, y], axis=1)\n",
    "df_clean.to_csv('data/heart.csv', index=False)\n",
    "\n",
    "orig_feature_count = len(df.columns) - 1\n",
    "orig_feature_count"
   ]
  }
 ],
 "metadata": {
  "kernelspec": {
   "display_name": "Python 3 (ipykernel)",
   "language": "python",
   "name": "python3"
  },
  "language_info": {
   "codemirror_mode": {
    "name": "ipython",
    "version": 3
   },
   "file_extension": ".py",
   "mimetype": "text/x-python",
   "name": "python",
   "nbconvert_exporter": "python",
   "pygments_lexer": "ipython3",
   "version": "3.7.0"
  }
 },
 "nbformat": 4,
 "nbformat_minor": 5
}
