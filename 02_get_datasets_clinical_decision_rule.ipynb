{
 "cells": [
  {
   "cell_type": "code",
   "execution_count": 2,
   "id": "3271d9fc",
   "metadata": {},
   "outputs": [
    {
     "name": "stdout",
     "output_type": "stream",
     "text": [
      "The autoreload extension is already loaded. To reload it, use:\n",
      "  %reload_ext autoreload\n"
     ]
    }
   ],
   "source": [
    "%load_ext autoreload\n",
    "%autoreload 2\n",
    "\n",
    "import numpy as np\n",
    "import pandas as pd\n",
    "import os"
   ]
  },
  {
   "cell_type": "markdown",
   "id": "continental-desktop",
   "metadata": {},
   "source": [
    "# intra-abdominal injury (PECARN)"
   ]
  },
  {
   "cell_type": "code",
   "execution_count": 3,
   "id": "chubby-brook",
   "metadata": {},
   "outputs": [],
   "source": [
    "dfs = []\n",
    "for k in ['train', 'tune', 'test']:\n",
    "    dfs.append(pd.read_csv(f'https://raw.githubusercontent.com/Yu-Group/rule-vetting/master/data/iai_pecarn/processed/{k}.csv'))\n",
    "df = pd.concat(dfs).drop(columns='Unnamed: 0')"
   ]
  },
  {
   "cell_type": "code",
   "execution_count": 4,
   "id": "09f4e16c",
   "metadata": {},
   "outputs": [],
   "source": [
    "df.to_csv('data_cleaned/iai_pecarn.csv', index=False)"
   ]
  },
  {
   "cell_type": "code",
   "execution_count": 5,
   "outputs": [
    {
     "data": {
      "text/plain": "(12044, 59)"
     },
     "execution_count": 5,
     "metadata": {},
     "output_type": "execute_result"
    }
   ],
   "source": [
    "df.shape"
   ],
   "metadata": {
    "collapsed": false,
    "pycharm": {
     "name": "#%%\n"
    }
   }
  },
  {
   "cell_type": "code",
   "execution_count": 6,
   "outputs": [
    {
     "data": {
      "text/plain": "Index(['AbdDistention_no', 'AbdDistention_or_AbdomenPain_no',\n       'AbdDistention_or_AbdomenPain_yes', 'AbdDistention_unknown',\n       'AbdDistention_yes', 'AbdTenderDegree_Mild', 'AbdTenderDegree_Moderate',\n       'AbdTenderDegree_None', 'AbdTenderDegree_Severe',\n       'AbdTenderDegree_unknown', 'AbdTrauma_no',\n       'AbdTrauma_or_SeatBeltSign_no', 'AbdTrauma_or_SeatBeltSign_yes',\n       'AbdTrauma_unknown', 'AbdTrauma_yes', 'AbdomenPain_no',\n       'AbdomenPain_unknown', 'AbdomenPain_yes', 'Age', 'Age<2_no',\n       'Age<2_yes', 'CostalTender_no', 'CostalTender_yes',\n       'DecrBreathSound_no', 'DecrBreathSound_unknown', 'DecrBreathSound_yes',\n       'DistractingPain_no', 'DistractingPain_unknown', 'DistractingPain_yes',\n       'GCSScore', 'GCSScore_Full_no', 'GCSScore_Full_yes', 'Hypotension_no',\n       'Hypotension_yes', 'LtCostalTender', 'MOI_Bike collision/fall',\n       'MOI_Fall down stairs', 'MOI_Fall from an elevation',\n       'MOI_Motor vehicle collision', 'MOI_Motorcycle/ATV/Scooter collision',\n       'MOI_Object struck abdomen',\n       'MOI_Pedestrian/bicyclist struck by moving vehicle', 'MOI_unknown',\n       'RtCostalTender', 'SeatBeltSign_no', 'SeatBeltSign_unknown',\n       'SeatBeltSign_yes', 'Sex_F', 'Sex_M', 'ThoracicTender_no',\n       'ThoracicTender_unknown', 'ThoracicTender_yes', 'ThoracicTrauma_no',\n       'ThoracicTrauma_unknown', 'ThoracicTrauma_yes', 'VomitWretch_no',\n       'VomitWretch_unknown', 'VomitWretch_yes', 'outcome'],\n      dtype='object')"
     },
     "execution_count": 6,
     "metadata": {},
     "output_type": "execute_result"
    }
   ],
   "source": [
    "df.keys()"
   ],
   "metadata": {
    "collapsed": false,
    "pycharm": {
     "name": "#%%\n"
    }
   }
  },
  {
   "cell_type": "code",
   "execution_count": null,
   "outputs": [],
   "source": [],
   "metadata": {
    "collapsed": false,
    "pycharm": {
     "name": "#%%\n"
    }
   }
  }
 ],
 "metadata": {
  "kernelspec": {
   "display_name": "Python 3 (ipykernel)",
   "language": "python",
   "name": "python3"
  },
  "language_info": {
   "codemirror_mode": {
    "name": "ipython",
    "version": 3
   },
   "file_extension": ".py",
   "mimetype": "text/x-python",
   "name": "python",
   "nbconvert_exporter": "python",
   "pygments_lexer": "ipython3",
   "version": "3.7.0"
  }
 },
 "nbformat": 4,
 "nbformat_minor": 5
}