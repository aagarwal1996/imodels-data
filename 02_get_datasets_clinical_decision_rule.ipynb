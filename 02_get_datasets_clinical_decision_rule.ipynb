{
 "cells": [
  {
   "cell_type": "markdown",
   "id": "cfe9c09b",
   "metadata": {},
   "source": [
    "This notebook uses gdown to download files.\n",
    "You can download it with `pip install gdown`.\n",
    "Alternatively, you can download zip files manually and then run the other commands (or download everything from [this folder](https://drive.google.com/drive/folders/1e9cEAuQsLABU5SOkQF982Pw09wPIJbn7?usp=sharing))."
   ]
  },
  {
   "cell_type": "code",
   "execution_count": 9,
   "id": "3271d9fc",
   "metadata": {},
   "outputs": [
    {
     "name": "stdout",
     "output_type": "stream",
     "text": [
      "The autoreload extension is already loaded. To reload it, use:\n",
      "  %reload_ext autoreload\n"
     ]
    }
   ],
   "source": [
    "%load_ext autoreload\n",
    "%autoreload 2\n",
    "\n",
    "import numpy as np\n",
    "import pandas as pd\n",
    "import os\n",
    "\n",
    "from imodels.util.dta_util import get_openml_dataset"
   ]
  },
  {
   "cell_type": "markdown",
   "id": "continental-desktop",
   "metadata": {},
   "source": [
    "# intra-abdominal injury (PECARN)"
   ]
  },
  {
   "cell_type": "code",
   "execution_count": 12,
   "id": "chubby-brook",
   "metadata": {},
   "outputs": [],
   "source": [
    "dfs = []\n",
    "for k in ['train']:\n",
    "    dfs.append(pd.read_csv(f'https://raw.githubusercontent.com/Yu-Group/rule-vetting/master/data/iai_pecarn/processed/{k}.csv'))\n",
    "df = pd.concat(dfs).drop(columns='Unnamed: 0')"
   ]
  },
  {
   "cell_type": "code",
   "execution_count": 14,
   "id": "09f4e16c",
   "metadata": {},
   "outputs": [],
   "source": [
    "df.to_csv('data_cleaned/iai_pecarn.csv', index=False)"
   ]
  }
 ],
 "metadata": {
  "kernelspec": {
   "display_name": "Python 3 (ipykernel)",
   "language": "python",
   "name": "python3"
  },
  "language_info": {
   "codemirror_mode": {
    "name": "ipython",
    "version": 3
   },
   "file_extension": ".py",
   "mimetype": "text/x-python",
   "name": "python",
   "nbconvert_exporter": "python",
   "pygments_lexer": "ipython3",
   "version": "3.7.0"
  }
 },
 "nbformat": 4,
 "nbformat_minor": 5
}
