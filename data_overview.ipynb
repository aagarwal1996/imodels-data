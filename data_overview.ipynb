{
 "cells": [
  {
   "cell_type": "code",
   "execution_count": 1,
   "metadata": {},
   "outputs": [],
   "source": [
    "%load_ext autoreload\n",
    "%autoreload 2\n",
    "import os\n",
    "from os.path import join as oj\n",
    "\n",
    "import numpy as np\n",
    "import pandas as pd\n",
    "\n",
    "pd.options.display.max_rows = 100"
   ]
  },
  {
   "cell_type": "code",
   "execution_count": 2,
   "metadata": {},
   "outputs": [],
   "source": [
    "def add_citations(m_print):\n",
    "    citations = {'ionosphere': 'sigillito1989classification',\n",
    "                 'diabetes': 'smith1988using',\n",
    "                 #              'german-credit': '',\n",
    "                 'juvenile': 'osofsky1997effects',\n",
    "                 'credit': 'yeh2009comparisons',\n",
    "                 #              'recidivism',\n",
    "                 #              'readmission': '',\n",
    "                 }\n",
    "\n",
    "    for i in m_print.index.values:\n",
    "        name = m_print.at[i, 'Name'].lower().replace('_clean', '').replace('_two_year', '').replace('_', ' ')\n",
    "        if name in citations:\n",
    "            m_print.at[i, 'Name'] = name.capitalize().replace('-', ' ') + ' \\cite{' + citations[name] + '}'\n",
    "        else:\n",
    "            m_print.at[i, 'Name'] = name.capitalize().replace('-', ' ')\n",
    "    return m_print"
   ]
  },
  {
   "cell_type": "code",
   "execution_count": 3,
   "metadata": {
    "pycharm": {
     "name": "#%%\n"
    }
   },
   "outputs": [],
   "source": [
    "metadata = []\n",
    "columns = ['Name', 'Samples', 'Features', 'Class 0', 'Class 1', 'Majority class %']\n",
    "for dset_name in os.listdir('data_cleaned'):\n",
    "    df = pd.read_csv(oj('data_cleaned', dset_name))\n",
    "    X, y = df.iloc[:, :-1].values, df.iloc[:, -1].values\n",
    "    feature_names = df.columns.values[:-1]\n",
    "\n",
    "    #     X = np.nan_to_num(X, 0)\n",
    "    shape = X.shape\n",
    "    class_counts = np.unique(y, return_counts=True)[1]\n",
    "    metadata.append([dset_name.capitalize()[:-4], shape[0], shape[1], class_counts[0], class_counts[1],\n",
    "                     np.round(100 * np.max(class_counts) / np.sum(class_counts), decimals=1)])\n",
    "\n",
    "metadata = pd.DataFrame(metadata, columns=columns).sort_values(by=['Samples'])\n",
    "metadata = add_citations(metadata)"
   ]
  },
  {
   "cell_type": "code",
   "execution_count": 4,
   "outputs": [
    {
     "name": "stdout",
     "output_type": "stream",
     "text": [
      "| Name                               |   Samples |   Features |   Class 0 |   Class 1 |   Majority class % |\n",
      "|:-----------------------------------|----------:|-----------:|----------:|----------:|-------------------:|\n",
      "| Heart                              |       270 |         15 |       150 |       120 |               55.6 |\n",
      "| Breast cancer                      |       277 |         17 |       196 |        81 |               70.8 |\n",
      "| Haberman                           |       306 |          3 |        81 |       225 |               73.5 |\n",
      "| Credit g                           |      1000 |         60 |       300 |       700 |               70   |\n",
      "| Csi all                            |      3313 |         36 |      2773 |       540 |               83.7 |\n",
      "| Csi with meta keys                 |      3313 |         25 |      2773 |       540 |               83.7 |\n",
      "| Juvenile \\cite{osofsky1997effects} |      3640 |        286 |      3153 |       487 |               86.6 |\n",
      "| Compas                             |      6172 |         20 |      3182 |      2990 |               51.6 |\n",
      "| Enhancer                           |      7809 |         80 |      7115 |       694 |               91.1 |\n",
      "| Iai pecarn                         |     12044 |         58 |     11841 |       203 |               98.3 |\n",
      "| Credit card                        |     30000 |         33 |     23364 |      6636 |               77.9 |\n",
      "| Readmission                        |    101763 |        150 |     54861 |     46902 |               53.9 |\n"
     ]
    }
   ],
   "source": [
    "print(metadata.to_markdown(index=False))"
   ],
   "metadata": {
    "collapsed": false,
    "pycharm": {
     "name": "#%%\n"
    }
   }
  },
  {
   "cell_type": "code",
   "execution_count": null,
   "outputs": [],
   "source": [],
   "metadata": {
    "collapsed": false,
    "pycharm": {
     "name": "#%%\n"
    }
   }
  }
 ],
 "metadata": {
  "jupytext": {
   "formats": "ipynb,../../tests/notebooks//py:percent"
  },
  "kernelspec": {
   "display_name": "Python 3 (ipykernel)",
   "language": "python",
   "name": "python3"
  },
  "language_info": {
   "codemirror_mode": {
    "name": "ipython",
    "version": 3
   },
   "file_extension": ".py",
   "mimetype": "text/x-python",
   "name": "python",
   "nbconvert_exporter": "python",
   "pygments_lexer": "ipython3",
   "version": "3.7.0"
  }
 },
 "nbformat": 4,
 "nbformat_minor": 4
}